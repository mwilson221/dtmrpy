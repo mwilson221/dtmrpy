{
 "cells": [
  {
   "cell_type": "code",
   "execution_count": 1,
   "id": "6529e079-00b9-4cd3-8dc4-39103186f128",
   "metadata": {},
   "outputs": [],
   "source": [
    "import numpy as np\n",
    "import pandas as pd\n",
    "from scipy.spatial.distance import cdist\n",
    "\n",
    "import ot\n",
    "\n",
    "import gensim\n",
    "from gensim.models import Word2Vec\n",
    "from gensim.utils import simple_preprocess\n",
    "\n",
    "dataset = pd.read_csv(\"D:\\\\Sentiment Analysis\\\\IMDB Dataset.csv\")"
   ]
  },
  {
   "cell_type": "code",
   "execution_count": 2,
   "id": "fae56aad-8124-4b40-936d-23366db0d190",
   "metadata": {},
   "outputs": [
    {
     "data": {
      "text/html": [
       "<div>\n",
       "<style scoped>\n",
       "    .dataframe tbody tr th:only-of-type {\n",
       "        vertical-align: middle;\n",
       "    }\n",
       "\n",
       "    .dataframe tbody tr th {\n",
       "        vertical-align: top;\n",
       "    }\n",
       "\n",
       "    .dataframe thead th {\n",
       "        text-align: right;\n",
       "    }\n",
       "</style>\n",
       "<table border=\"1\" class=\"dataframe\">\n",
       "  <thead>\n",
       "    <tr style=\"text-align: right;\">\n",
       "      <th></th>\n",
       "      <th>review</th>\n",
       "      <th>sentiment</th>\n",
       "    </tr>\n",
       "  </thead>\n",
       "  <tbody>\n",
       "    <tr>\n",
       "      <th>0</th>\n",
       "      <td>One of the other reviewers has mentioned that ...</td>\n",
       "      <td>positive</td>\n",
       "    </tr>\n",
       "    <tr>\n",
       "      <th>1</th>\n",
       "      <td>A wonderful little production. &lt;br /&gt;&lt;br /&gt;The...</td>\n",
       "      <td>positive</td>\n",
       "    </tr>\n",
       "    <tr>\n",
       "      <th>2</th>\n",
       "      <td>I thought this was a wonderful way to spend ti...</td>\n",
       "      <td>positive</td>\n",
       "    </tr>\n",
       "    <tr>\n",
       "      <th>3</th>\n",
       "      <td>Basically there's a family where a little boy ...</td>\n",
       "      <td>negative</td>\n",
       "    </tr>\n",
       "    <tr>\n",
       "      <th>4</th>\n",
       "      <td>Petter Mattei's \"Love in the Time of Money\" is...</td>\n",
       "      <td>positive</td>\n",
       "    </tr>\n",
       "  </tbody>\n",
       "</table>\n",
       "</div>"
      ],
      "text/plain": [
       "                                              review sentiment\n",
       "0  One of the other reviewers has mentioned that ...  positive\n",
       "1  A wonderful little production. <br /><br />The...  positive\n",
       "2  I thought this was a wonderful way to spend ti...  positive\n",
       "3  Basically there's a family where a little boy ...  negative\n",
       "4  Petter Mattei's \"Love in the Time of Money\" is...  positive"
      ]
     },
     "execution_count": 2,
     "metadata": {},
     "output_type": "execute_result"
    }
   ],
   "source": [
    "dataset.head()"
   ]
  },
  {
   "cell_type": "code",
   "execution_count": 3,
   "id": "7fcaad1f-9ff5-4d94-85f6-5da8b70f01ac",
   "metadata": {},
   "outputs": [],
   "source": [
    "y = (dataset.sentiment=='positive').astype(int).values"
   ]
  },
  {
   "cell_type": "code",
   "execution_count": 4,
   "id": "daa62d16-7a0c-47a6-8480-496ea1a85119",
   "metadata": {},
   "outputs": [],
   "source": [
    "review_list = dataset.review.values\n",
    "\n",
    "tokenized_sentences = [simple_preprocess(review) for review in review_list]"
   ]
  },
  {
   "cell_type": "code",
   "execution_count": 5,
   "id": "c20be7d0-adbf-4e38-a4ed-410b16471976",
   "metadata": {},
   "outputs": [],
   "source": [
    "vec_size=100\n",
    "\n",
    "model = Word2Vec(sentences=tokenized_sentences, vector_size=vec_size, window=5, min_count=1, workers=4)"
   ]
  },
  {
   "cell_type": "code",
   "execution_count": 6,
   "id": "b70c147a-0f7e-4a54-9c31-9a0e24d22ab0",
   "metadata": {},
   "outputs": [],
   "source": [
    "embedded_reviews = []\n",
    "for tokens in tokenized_sentences:\n",
    "    vectors = [model.wv[word] for word in tokens if word in model.wv]\n",
    "    embedded_reviews.append(np.array(vectors))"
   ]
  },
  {
   "cell_type": "code",
   "execution_count": 7,
   "id": "91256165-646f-4885-866d-417aeee9e0a1",
   "metadata": {},
   "outputs": [],
   "source": [
    "Z = np.array([a.shape[0] for a in embedded_reviews])"
   ]
  },
  {
   "cell_type": "code",
   "execution_count": 8,
   "id": "850a4772-6f5e-4f8d-b8be-0bfa3ec2acc4",
   "metadata": {},
   "outputs": [
    {
     "data": {
      "image/png": "[encoded data removed]",
      "text/plain": [
       "<Figure size 640x480 with 1 Axes>"
      ]
     },
     "metadata": {},
     "output_type": "display_data"
    }
   ],
   "source": [
    "import matplotlib.pyplot as plt\n",
    "\n",
    "plt.hist(Z)\n",
    "plt.show()"
   ]
  },
  {
   "cell_type": "code",
   "execution_count": 9,
   "id": "c52950e2-f651-490c-8b6b-472e11e1fbe9",
   "metadata": {},
   "outputs": [
    {
     "data": {
      "text/plain": [
       "array([[ 0.        , 18.74707758, 14.62190189, ..., 24.9434166 ,\n",
       "        16.08570566, 18.27259437],\n",
       "       [18.74707758,  0.        , 13.61509844, ..., 24.32998254,\n",
       "        12.34918013, 18.83887863],\n",
       "       [14.62190189, 13.61509844,  0.        , ..., 23.07417533,\n",
       "        12.25443544, 16.44335538],\n",
       "       ...,\n",
       "       [24.9434166 , 24.32998254, 23.07417533, ...,  0.        ,\n",
       "        22.65965707, 26.44036207],\n",
       "       [16.08570566, 12.34918013, 12.25443544, ..., 22.65965707,\n",
       "         0.        , 14.26067359],\n",
       "       [18.27259437, 18.83887863, 16.44335538, ..., 26.44036207,\n",
       "        14.26067359,  0.        ]])"
      ]
     },
     "execution_count": 9,
     "metadata": {},
     "output_type": "execute_result"
    }
   ],
   "source": [
    "cdist(embedded_reviews[0], embedded_reviews[0])"
   ]
  },
  {
   "cell_type": "code",
   "execution_count": 10,
   "id": "742cafeb-d681-429a-8a78-47114c612468",
   "metadata": {},
   "outputs": [],
   "source": [
    "num_supports = 250\n",
    "\n",
    "barycenter = np.random.randn(num_supports, vec_size)"
   ]
  },
  {
   "cell_type": "code",
   "execution_count": 11,
   "id": "331fdf2e-933a-485d-b7c1-9f98ecc68595",
   "metadata": {},
   "outputs": [],
   "source": [
    "a = np.ones(num_supports)/num_supports\n",
    "\n",
    "# N=len(embedded_reviews)\n",
    "\n",
    "# for update in range(10):\n",
    "    \n",
    "#     Tx=np.zeros_like(barycenter)\n",
    "    \n",
    "#     for counter, embedded_review in enumerate(embedded_reviews):\n",
    "\n",
    "#         m = embedded_review.shape[0]\n",
    "#         b = np.ones(m)/m\n",
    "\n",
    "#         M = cdist(barycenter, embedded_review)\n",
    "        \n",
    "#         gamma = ot.emd(a,b,M)\n",
    "        \n",
    "#         Tx += (1/N)*np.diag(1/a)@gamma@embedded_review\n",
    "        \n",
    "#     barycenter=Tx\n",
    "#     print(update, end = ' ')\n",
    "\n",
    "barycenter = np.load(\"estimated_barycenter.npy\")\n"
   ]
  },
  {
   "cell_type": "code",
   "execution_count": 12,
   "id": "15e78476-b3e9-40a9-a8a9-6009f9c14fa0",
   "metadata": {},
   "outputs": [],
   "source": [
    "Tx_list=[]\n",
    "\n",
    "for embedded_review in embedded_reviews:\n",
    "\n",
    "    m = embedded_review.shape[0]\n",
    "    b = np.ones(m)/m\n",
    "\n",
    "    M = cdist(barycenter, embedded_review)\n",
    "\n",
    "    gamma = ot.emd(a,b,M)\n",
    "\n",
    "    Tx_list.append((np.diag(1/a)@gamma@embedded_review).flatten())\n",
    "\n",
    "TX = np.array(Tx_list)"
   ]
  },
  {
   "cell_type": "code",
   "execution_count": 13,
   "id": "e691d8f1-57c1-4bf1-b9dd-d155d341310f",
   "metadata": {},
   "outputs": [
    {
     "data": {
      "text/plain": [
       "(50000, 25000)"
      ]
     },
     "execution_count": 13,
     "metadata": {},
     "output_type": "execute_result"
    }
   ],
   "source": [
    "TX.shape"
   ]
  },
  {
   "cell_type": "code",
   "execution_count": 14,
   "id": "d17e79cb-aa95-41ac-b6ef-764ec59dab87",
   "metadata": {},
   "outputs": [
    {
     "data": {
      "text/plain": [
       "(50000,)"
      ]
     },
     "execution_count": 14,
     "metadata": {},
     "output_type": "execute_result"
    }
   ],
   "source": [
    "y.shape"
   ]
  },
  {
   "cell_type": "code",
   "execution_count": 15,
   "id": "d523c483-7589-483d-84c6-ff9af138bb8e",
   "metadata": {},
   "outputs": [],
   "source": [
    "from sklearn.svm import SVC\n",
    "from sklearn.model_selection import cross_val_score\n",
    "\n",
    "mdl = SVC()\n"
   ]
  },
  {
   "cell_type": "code",
   "execution_count": 16,
   "id": "265046bb-642d-4c34-8b77-b84fe14e5b2b",
   "metadata": {},
   "outputs": [
    {
     "data": {
      "image/png": "[encoded data removed]",
      "text/plain": [
       "<Figure size 1000x600 with 1 Axes>"
      ]
     },
     "metadata": {},
     "output_type": "display_data"
    }
   ],
   "source": [
    "from sklearn.decomposition import PCA\n",
    "from sklearn.preprocessing import StandardScaler\n",
    "\n",
    "sample_size = 10000  # Adjust according to your memory capacity\n",
    "indices = np.random.choice(TX.shape[0], sample_size, replace=False)\n",
    "TX_sample = TX[indices]\n",
    "y_sample = y[indices]\n",
    "\n",
    "# Standardize and perform PCA on the sample\n",
    "scaler = StandardScaler()\n",
    "TX_sample_scaled = scaler.fit_transform(TX_sample)\n",
    "\n",
    "pca = PCA(n_components=1000)\n",
    "TX_sample_pca = pca.fit_transform(TX_sample_scaled)\n",
    "\n",
    "# Step 3: Explained variance\n",
    "explained_variance = pca.explained_variance_ratio_\n",
    "\n",
    "# Step 4: Create the elbow plot\n",
    "plt.figure(figsize=(10, 6))\n",
    "plt.plot(np.cumsum(explained_variance), marker='o', linestyle='--')\n",
    "plt.xlabel('Number of Components')\n",
    "plt.ylabel('Cumulative Explained Variance')\n",
    "plt.title('Elbow Plot')\n",
    "plt.grid(True)\n",
    "plt.show()"
   ]
  },
  {
   "cell_type": "code",
   "execution_count": 17,
   "id": "f54b6dff-ceb9-4969-89bf-95c13a3711f7",
   "metadata": {},
   "outputs": [
    {
     "data": {
      "text/plain": [
       "array([0.843, 0.856, 0.836, 0.857, 0.854, 0.862, 0.86 , 0.868, 0.859,\n",
       "       0.861])"
      ]
     },
     "execution_count": 17,
     "metadata": {},
     "output_type": "execute_result"
    }
   ],
   "source": [
    "acc = cross_val_score(mdl,TX_sample_pca,y_sample,cv=10)\n",
    "acc"
   ]
  },
  {
   "cell_type": "code",
   "execution_count": 18,
   "id": "f91f3d0a-1177-4c4f-a04b-67a27257f2e1",
   "metadata": {},
   "outputs": [
    {
     "data": {
      "text/plain": [
       "0.8556000000000001"
      ]
     },
     "execution_count": 18,
     "metadata": {},
     "output_type": "execute_result"
    }
   ],
   "source": [
    "np.mean(acc)"
   ]
  },
  {
   "cell_type": "code",
   "execution_count": 19,
   "id": "10c2f79a-0a56-421e-9641-1ee2523184f1",
   "metadata": {},
   "outputs": [
    {
     "data": {
      "text/plain": [
       "array([0.7  , 0.675, 0.708, 0.671, 0.721, 0.734, 0.667, 0.715, 0.709,\n",
       "       0.714])"
      ]
     },
     "execution_count": 19,
     "metadata": {},
     "output_type": "execute_result"
    }
   ],
   "source": [
    "from sklearn.ensemble import RandomForestClassifier\n",
    "\n",
    "rf=RandomForestClassifier()\n",
    "\n",
    "acc = cross_val_score(rf,TX_sample_pca,y_sample,cv=10)\n",
    "acc"
   ]
  },
  {
   "cell_type": "code",
   "execution_count": 20,
   "id": "992c1609-4388-409f-aa00-c116d325bde3",
   "metadata": {},
   "outputs": [
    {
     "data": {
      "text/plain": [
       "0.7013999999999999"
      ]
     },
     "execution_count": 20,
     "metadata": {},
     "output_type": "execute_result"
    }
   ],
   "source": [
    "np.mean(acc)"
   ]
  },
  {
   "cell_type": "code",
   "execution_count": 22,
   "id": "f354ac09-270c-4399-9e99-7e04c1ccc9ab",
   "metadata": {},
   "outputs": [],
   "source": [
    "TX_sample_pca_full = pca.transform(TX)"
   ]
  },
  {
   "cell_type": "code",
   "execution_count": 23,
   "id": "56e81eb8-ed7c-4860-99e5-64b8abb6f567",
   "metadata": {},
   "outputs": [
    {
     "data": {
      "text/plain": [
       "(50000, 1000)"
      ]
     },
     "execution_count": 23,
     "metadata": {},
     "output_type": "execute_result"
    }
   ],
   "source": [
    "TX_sample_pca_full.shape"
   ]
  },
  {
   "cell_type": "code",
   "execution_count": 24,
   "id": "f3b1476a-9c3f-41b5-8b5e-abde39d00924",
   "metadata": {},
   "outputs": [
    {
     "data": {
      "text/plain": [
       "(50000,)"
      ]
     },
     "execution_count": 24,
     "metadata": {},
     "output_type": "execute_result"
    }
   ],
   "source": [
    "y.shape"
   ]
  },
  {
   "cell_type": "code",
   "execution_count": 25,
   "id": "e714ca70-1a1e-41d9-9185-7304a69d1269",
   "metadata": {},
   "outputs": [
    {
     "data": {
      "text/plain": [
       "array([0.8738, 0.8774, 0.8736, 0.8678, 0.8662, 0.8748, 0.8676, 0.8616,\n",
       "       0.8664, 0.8646])"
      ]
     },
     "execution_count": 25,
     "metadata": {},
     "output_type": "execute_result"
    }
   ],
   "source": [
    "acc = cross_val_score(mdl,TX_sample_pca_full,y,cv=10)\n",
    "acc"
   ]
  },
  {
   "cell_type": "code",
   "execution_count": 26,
   "id": "4f4392b4-9b20-4f63-8a78-ea1154834233",
   "metadata": {},
   "outputs": [
    {
     "data": {
      "text/plain": [
       "0.8693799999999999"
      ]
     },
     "execution_count": 26,
     "metadata": {},
     "output_type": "execute_result"
    }
   ],
   "source": [
    "np.mean(acc)"
   ]
  }
 ],
 "metadata": {
  "kernelspec": {
   "display_name": "gpu_compute_env",
   "language": "python",
   "name": "gpu_compute_env"
  },
  "language_info": {
   "codemirror_mode": {
    "name": "ipython",
    "version": 3
   },
   "file_extension": ".py",
   "mimetype": "text/x-python",
   "name": "python",
   "nbconvert_exporter": "python",
   "pygments_lexer": "ipython3",
   "version": "3.11.4"
  }
 },
 "nbformat": 4,
 "nbformat_minor": 5
}
