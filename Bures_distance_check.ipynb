{
 "cells": [
  {
   "cell_type": "code",
   "execution_count": 1,
   "id": "8f9957bf-3d62-4f78-88f5-446392b688ac",
   "metadata": {},
   "outputs": [
    {
     "name": "stderr",
     "output_type": "stream",
     "text": [
      "INFO: Using numpy backend\n"
     ]
    }
   ],
   "source": [
    "import numpy as np\n",
    "import pandas as pd\n",
    "\n",
    "import torch\n",
    "\n",
    "from geomstats.geometry.spd_matrices import SPDMatrices, SPDBuresWassersteinMetric\n",
    "\n",
    "def bures_distance_matrix2(Sigma_x,Sigma_y):\n",
    "    Lx, Qx = torch.linalg.eigh(Sigma_x)\n",
    "    Sigma_x_sqrt = Qx @ torch.diag_embed(torch.sqrt(Lx*(Lx>0))) @ Qx.mH\n",
    "    \n",
    "    cross_term = torch.matmul(torch.matmul(Sigma_x_sqrt, Sigma_y.unsqueeze(1)),Sigma_x_sqrt.unsqueeze(0))\n",
    "    \n",
    "    N=cross_term.shape[0]\n",
    "    M=int(1000000/cross_term.shape[1])\n",
    "    \n",
    "    for i in np.arange(0,N,M):\n",
    "        Lc,Qc = torch.linalg.eigh(cross_term[i:(i+M)])\n",
    "        cross_term[i:i+M] = Qc @ torch.diag_embed(torch.sqrt((Lc*(Lc>0)))) @ Qc.mH\n",
    "\n",
    "    return torch.einsum('ijkk -> ij', Sigma_x.unsqueeze(0) + Sigma_y.unsqueeze(1) - 2*cross_term).T #the transpose here should be fixed\n"
   ]
  },
  {
   "cell_type": "code",
   "execution_count": 2,
   "id": "1ad2a6ab-5366-4c21-976f-f1a7047a371e",
   "metadata": {},
   "outputs": [],
   "source": [
    "N= 100\n",
    "\n",
    "spd = SPDMatrices(3)\n",
    "spd.equip_with_metric(SPDBuresWassersteinMetric)\n",
    "\n",
    "Sigma_x = spd.random_point(N)\n",
    "Sigma_y = spd.random_point(N)\n",
    "\n"
   ]
  },
  {
   "cell_type": "code",
   "execution_count": 3,
   "id": "84af9cc8-9b95-420c-b2ab-5b21768097c5",
   "metadata": {},
   "outputs": [],
   "source": [
    "D0 = np.array([[spd.metric.squared_dist(sigma0,sigma1) for sigma0 in Sigma_y] for sigma1 in Sigma_x])"
   ]
  },
  {
   "cell_type": "code",
   "execution_count": 4,
   "id": "1ffb9ed8-0ef7-4e20-9c93-bb1c0b10fe91",
   "metadata": {},
   "outputs": [],
   "source": [
    "D1 = bures_distance_matrix2(torch.tensor(Sigma_x), torch.tensor(Sigma_y))"
   ]
  },
  {
   "cell_type": "code",
   "execution_count": 5,
   "id": "ec9ca9e5-a170-4d5a-a12c-5a47f43a9e30",
   "metadata": {},
   "outputs": [
    {
     "data": {
      "text/plain": [
       "tensor(2.6645e-14, dtype=torch.float64)"
      ]
     },
     "execution_count": 5,
     "metadata": {},
     "output_type": "execute_result"
    }
   ],
   "source": [
    "torch.max(D1-D0)"
   ]
  },
  {
   "cell_type": "markdown",
   "id": "91ad8396-b0d3-4acd-ae8c-d5f2944d082c",
   "metadata": {},
   "source": [
    "<font size= \"5\"> - We see that the largest difference in the 10000 distance calculations is on the order of (e-14)\n",
    "    \n",
    "Next, we'll try real data"
   ]
  },
  {
   "cell_type": "code",
   "execution_count": 6,
   "id": "4caa62f7-fc86-4166-bad2-32a284b55fc2",
   "metadata": {},
   "outputs": [],
   "source": [
    "df = pd.read_pickle(\"data_files/dtmri_dataframe_11_2.pkl\")\n",
    "df = df[df['labels']!='#NULL!']"
   ]
  },
  {
   "cell_type": "code",
   "execution_count": 7,
   "id": "047e5976-e09c-420b-9da5-ddf50ffcb025",
   "metadata": {},
   "outputs": [],
   "source": [
    "mu0 = df.at[0,'Cingulum_Frontal_Parahippocampal_L']\n",
    "mu1 = df.at[2,'Cingulum_Frontal_Parahippocampal_L']"
   ]
  },
  {
   "cell_type": "code",
   "execution_count": 8,
   "id": "d930c732-d2d6-4d72-bd80-bc6083c62c10",
   "metadata": {},
   "outputs": [],
   "source": [
    "Sigma_x = spd.projection(mu0.covariances_)\n",
    "Sigma_y = spd.projection(mu1.covariances_)"
   ]
  },
  {
   "cell_type": "code",
   "execution_count": 9,
   "id": "9d5f82f5-f735-450b-afc0-59bea380413d",
   "metadata": {},
   "outputs": [],
   "source": [
    "D1 = bures_distance_matrix2(torch.tensor(Sigma_x), torch.tensor(Sigma_y))"
   ]
  },
  {
   "cell_type": "code",
   "execution_count": 10,
   "id": "c1bc67ce-074e-49a7-9052-4922a9dce81c",
   "metadata": {},
   "outputs": [
    {
     "data": {
      "text/plain": [
       "True"
      ]
     },
     "execution_count": 10,
     "metadata": {},
     "output_type": "execute_result"
    }
   ],
   "source": [
    "spd.belongs(Sigma_x).all()\n",
    "spd.belongs(Sigma_y).all()"
   ]
  },
  {
   "cell_type": "code",
   "execution_count": 11,
   "id": "fc6d5e6a-6a01-4f82-8a20-1362bd440dbd",
   "metadata": {},
   "outputs": [
    {
     "data": {
      "text/plain": [
       "array(0.00108953-7.41880324e-12j)"
      ]
     },
     "execution_count": 11,
     "metadata": {},
     "output_type": "execute_result"
    }
   ],
   "source": [
    "spd.metric.squared_dist(Sigma_x[0],Sigma_y[0])"
   ]
  },
  {
   "cell_type": "code",
   "execution_count": 12,
   "id": "f56f4313-c02a-43df-a7b5-53554807c1d6",
   "metadata": {},
   "outputs": [
    {
     "data": {
      "text/plain": [
       "array(0.00108953)"
      ]
     },
     "execution_count": 12,
     "metadata": {},
     "output_type": "execute_result"
    }
   ],
   "source": [
    "D1[0,0].cpu().numpy()"
   ]
  },
  {
   "cell_type": "markdown",
   "id": "2cd88ab7-e4f0-4899-b08f-477aa81a43f4",
   "metadata": {},
   "source": [
    "<font size= \"5\"> - Get the same (real) answer. Why does their matrix square root have an imaginary value?\n",
    "\n",
    "Because the matrix is ill-conditioned (I think), and Geomstats uses sqrtm, a more general (and slower) matrix squareroot function than is necessary. We choose instead to use the fact that our matrices are symmetric, and thus orthogonally diagonalizable, and thus\n",
    "    \n",
    "$\\Sigma = PDP^{-1} \\implies \\Sigma^{\\frac{1}{2}} = PD^{\\frac{1}{2}}P^{-1}$, since\n",
    "    \n",
    "$PD^{\\frac{1}{2}}P^{-1} PD^{\\frac{1}{2}}P^{-1} = PDP^{-1}$\n",
    "    "
   ]
  },
  {
   "cell_type": "code",
   "execution_count": 13,
   "id": "75d8e392-a8c5-4d12-a0d4-5b33f35b3a14",
   "metadata": {},
   "outputs": [
    {
     "name": "stdout",
     "output_type": "stream",
     "text": [
      "Failed to find a square root.\n",
      "Failed to find a square root.\n",
      "Failed to find a square root.\n",
      "Failed to find a square root.\n",
      "Failed to find a square root.\n",
      "Failed to find a square root.\n",
      "Failed to find a square root.\n",
      "Failed to find a square root.\n",
      "Failed to find a square root.\n",
      "Failed to find a square root.\n",
      "Failed to find a square root.\n",
      "Failed to find a square root.\n",
      "Failed to find a square root.\n",
      "Failed to find a square root.\n",
      "Failed to find a square root.\n",
      "Failed to find a square root.\n",
      "Failed to find a square root.\n",
      "Failed to find a square root.\n",
      "Failed to find a square root.\n",
      "Failed to find a square root.\n",
      "Failed to find a square root.\n",
      "Failed to find a square root.\n",
      "Failed to find a square root.\n",
      "Failed to find a square root.\n",
      "Failed to find a square root.\n",
      "Failed to find a square root.\n",
      "Failed to find a square root.\n",
      "Failed to find a square root.\n",
      "Failed to find a square root.\n",
      "Failed to find a square root.\n",
      "Failed to find a square root.\n",
      "Failed to find a square root.\n",
      "Failed to find a square root.\n",
      "Failed to find a square root.\n",
      "Failed to find a square root.\n",
      "Failed to find a square root.\n",
      "Failed to find a square root.\n",
      "Failed to find a square root.\n",
      "Failed to find a square root.\n",
      "Failed to find a square root.\n",
      "Failed to find a square root.\n",
      "Failed to find a square root.\n",
      "Failed to find a square root.\n",
      "Failed to find a square root.\n",
      "Failed to find a square root.\n",
      "Failed to find a square root.\n",
      "Failed to find a square root.\n",
      "Failed to find a square root.\n",
      "Failed to find a square root.\n",
      "Failed to find a square root.\n",
      "Failed to find a square root.\n",
      "Failed to find a square root.\n",
      "Failed to find a square root.\n",
      "Failed to find a square root.\n",
      "Failed to find a square root.\n",
      "Failed to find a square root.\n",
      "Failed to find a square root.\n",
      "Failed to find a square root.\n",
      "Failed to find a square root.\n",
      "Failed to find a square root.\n",
      "Failed to find a square root.\n",
      "Failed to find a square root.\n",
      "Failed to find a square root.\n",
      "Failed to find a square root.\n",
      "Failed to find a square root.\n",
      "Failed to find a square root.\n",
      "Failed to find a square root.\n",
      "Failed to find a square root.\n",
      "Failed to find a square root.\n",
      "Failed to find a square root.\n",
      "Failed to find a square root.\n",
      "Failed to find a square root.\n",
      "Failed to find a square root.\n",
      "Failed to find a square root.\n",
      "Failed to find a square root.\n",
      "Failed to find a square root.\n",
      "Failed to find a square root.\n",
      "Failed to find a square root.\n",
      "Failed to find a square root.\n",
      "Failed to find a square root.\n",
      "Failed to find a square root.\n",
      "Failed to find a square root.\n",
      "Failed to find a square root.\n",
      "Failed to find a square root.\n",
      "Failed to find a square root.\n",
      "Failed to find a square root.\n",
      "Failed to find a square root.\n",
      "Failed to find a square root.\n",
      "Failed to find a square root.\n",
      "Failed to find a square root.\n",
      "Failed to find a square root.\n",
      "Failed to find a square root.\n",
      "Failed to find a square root.\n",
      "Failed to find a square root.\n",
      "Failed to find a square root.\n",
      "Failed to find a square root.\n",
      "Failed to find a square root.\n",
      "Failed to find a square root.\n",
      "Failed to find a square root.\n",
      "Failed to find a square root.\n",
      "Failed to find a square root.\n",
      "Failed to find a square root.\n",
      "Failed to find a square root.\n",
      "Failed to find a square root.\n",
      "Failed to find a square root.\n",
      "Failed to find a square root.\n",
      "Failed to find a square root.\n",
      "Failed to find a square root.\n",
      "Failed to find a square root.\n",
      "Failed to find a square root.\n",
      "Failed to find a square root.\n",
      "Failed to find a square root.\n",
      "Failed to find a square root.\n",
      "Failed to find a square root.\n",
      "Failed to find a square root.\n",
      "Failed to find a square root.\n",
      "Failed to find a square root.\n",
      "Failed to find a square root.\n",
      "Failed to find a square root.\n",
      "Failed to find a square root.\n",
      "Failed to find a square root.\n",
      "Failed to find a square root.\n",
      "Failed to find a square root.\n",
      "Failed to find a square root.\n",
      "Failed to find a square root.\n",
      "Failed to find a square root.\n",
      "Failed to find a square root.\n",
      "Failed to find a square root.\n",
      "Failed to find a square root.\n",
      "Failed to find a square root.\n",
      "Failed to find a square root.\n",
      "Failed to find a square root.\n",
      "Failed to find a square root.\n",
      "Failed to find a square root.\n",
      "Failed to find a square root.\n",
      "Failed to find a square root.\n",
      "Failed to find a square root.\n",
      "Failed to find a square root.\n",
      "Failed to find a square root.\n",
      "Failed to find a square root.\n",
      "Failed to find a square root.\n",
      "Failed to find a square root.\n",
      "Failed to find a square root.\n",
      "Failed to find a square root.\n",
      "Failed to find a square root.\n",
      "Failed to find a square root.\n",
      "Failed to find a square root.\n",
      "Failed to find a square root.\n",
      "Failed to find a square root.\n",
      "Failed to find a square root.\n",
      "Failed to find a square root.\n",
      "Failed to find a square root.\n",
      "Failed to find a square root.\n",
      "Failed to find a square root.\n",
      "Failed to find a square root.\n",
      "Failed to find a square root.\n",
      "Failed to find a square root.\n",
      "Failed to find a square root.\n"
     ]
    },
    {
     "ename": "KeyboardInterrupt",
     "evalue": "",
     "output_type": "error",
     "traceback": [
      "\u001b[1;31m---------------------------------------------------------------------------\u001b[0m",
      "\u001b[1;31mKeyboardInterrupt\u001b[0m                         Traceback (most recent call last)",
      "Cell \u001b[1;32mIn[13], line 1\u001b[0m\n\u001b[1;32m----> 1\u001b[0m D0 \u001b[38;5;241m=\u001b[39m np\u001b[38;5;241m.\u001b[39marray(\u001b[43m[\u001b[49m\u001b[43m[\u001b[49m\u001b[43mnp\u001b[49m\u001b[38;5;241;43m.\u001b[39;49m\u001b[43mreal\u001b[49m\u001b[43m(\u001b[49m\u001b[43mspd\u001b[49m\u001b[38;5;241;43m.\u001b[39;49m\u001b[43mmetric\u001b[49m\u001b[38;5;241;43m.\u001b[39;49m\u001b[43msquared_dist\u001b[49m\u001b[43m(\u001b[49m\u001b[43msigma0\u001b[49m\u001b[43m,\u001b[49m\u001b[43msigma1\u001b[49m\u001b[43m)\u001b[49m\u001b[43m)\u001b[49m\u001b[43m \u001b[49m\u001b[38;5;28;43;01mfor\u001b[39;49;00m\u001b[43m \u001b[49m\u001b[43msigma0\u001b[49m\u001b[43m \u001b[49m\u001b[38;5;129;43;01min\u001b[39;49;00m\u001b[43m \u001b[49m\u001b[43mSigma_y\u001b[49m\u001b[43m]\u001b[49m\u001b[43m \u001b[49m\u001b[38;5;28;43;01mfor\u001b[39;49;00m\u001b[43m \u001b[49m\u001b[43msigma1\u001b[49m\u001b[43m \u001b[49m\u001b[38;5;129;43;01min\u001b[39;49;00m\u001b[43m \u001b[49m\u001b[43mSigma_x\u001b[49m\u001b[43m]\u001b[49m)\n",
      "Cell \u001b[1;32mIn[13], line 1\u001b[0m, in \u001b[0;36m<listcomp>\u001b[1;34m(.0)\u001b[0m\n\u001b[1;32m----> 1\u001b[0m D0 \u001b[38;5;241m=\u001b[39m np\u001b[38;5;241m.\u001b[39marray([\u001b[43m[\u001b[49m\u001b[43mnp\u001b[49m\u001b[38;5;241;43m.\u001b[39;49m\u001b[43mreal\u001b[49m\u001b[43m(\u001b[49m\u001b[43mspd\u001b[49m\u001b[38;5;241;43m.\u001b[39;49m\u001b[43mmetric\u001b[49m\u001b[38;5;241;43m.\u001b[39;49m\u001b[43msquared_dist\u001b[49m\u001b[43m(\u001b[49m\u001b[43msigma0\u001b[49m\u001b[43m,\u001b[49m\u001b[43msigma1\u001b[49m\u001b[43m)\u001b[49m\u001b[43m)\u001b[49m\u001b[43m \u001b[49m\u001b[38;5;28;43;01mfor\u001b[39;49;00m\u001b[43m \u001b[49m\u001b[43msigma0\u001b[49m\u001b[43m \u001b[49m\u001b[38;5;129;43;01min\u001b[39;49;00m\u001b[43m \u001b[49m\u001b[43mSigma_y\u001b[49m\u001b[43m]\u001b[49m \u001b[38;5;28;01mfor\u001b[39;00m sigma1 \u001b[38;5;129;01min\u001b[39;00m Sigma_x])\n",
      "Cell \u001b[1;32mIn[13], line 1\u001b[0m, in \u001b[0;36m<listcomp>\u001b[1;34m(.0)\u001b[0m\n\u001b[1;32m----> 1\u001b[0m D0 \u001b[38;5;241m=\u001b[39m np\u001b[38;5;241m.\u001b[39marray([[np\u001b[38;5;241m.\u001b[39mreal(\u001b[43mspd\u001b[49m\u001b[38;5;241;43m.\u001b[39;49m\u001b[43mmetric\u001b[49m\u001b[38;5;241;43m.\u001b[39;49m\u001b[43msquared_dist\u001b[49m\u001b[43m(\u001b[49m\u001b[43msigma0\u001b[49m\u001b[43m,\u001b[49m\u001b[43msigma1\u001b[49m\u001b[43m)\u001b[49m) \u001b[38;5;28;01mfor\u001b[39;00m sigma0 \u001b[38;5;129;01min\u001b[39;00m Sigma_y] \u001b[38;5;28;01mfor\u001b[39;00m sigma1 \u001b[38;5;129;01min\u001b[39;00m Sigma_x])\n",
      "File \u001b[1;32m~\\anaconda3\\envs\\gpu_compute_env\\Lib\\site-packages\\geomstats\\geometry\\spd_matrices.py:847\u001b[0m, in \u001b[0;36mSPDBuresWassersteinMetric.squared_dist\u001b[1;34m(self, point_a, point_b)\u001b[0m\n\u001b[0;32m    830\u001b[0m \u001b[38;5;250m\u001b[39m\u001b[38;5;124;03m\"\"\"Compute the Bures-Wasserstein squared distance.\u001b[39;00m\n\u001b[0;32m    831\u001b[0m \n\u001b[0;32m    832\u001b[0m \u001b[38;5;124;03mCompute the Riemannian squared distance between point_a and point_b.\u001b[39;00m\n\u001b[1;32m   (...)\u001b[0m\n\u001b[0;32m    844\u001b[0m \u001b[38;5;124;03m    Riemannian squared distance.\u001b[39;00m\n\u001b[0;32m    845\u001b[0m \u001b[38;5;124;03m\"\"\"\u001b[39;00m\n\u001b[0;32m    846\u001b[0m product \u001b[38;5;241m=\u001b[39m gs\u001b[38;5;241m.\u001b[39mmatmul(point_a, point_b)\n\u001b[1;32m--> 847\u001b[0m sqrt_product \u001b[38;5;241m=\u001b[39m \u001b[43mgs\u001b[49m\u001b[38;5;241;43m.\u001b[39;49m\u001b[43mlinalg\u001b[49m\u001b[38;5;241;43m.\u001b[39;49m\u001b[43msqrtm\u001b[49m\u001b[43m(\u001b[49m\u001b[43mproduct\u001b[49m\u001b[43m)\u001b[49m\n\u001b[0;32m    848\u001b[0m trace_a \u001b[38;5;241m=\u001b[39m gs\u001b[38;5;241m.\u001b[39mtrace(point_a)\n\u001b[0;32m    849\u001b[0m trace_b \u001b[38;5;241m=\u001b[39m gs\u001b[38;5;241m.\u001b[39mtrace(point_b)\n",
      "File \u001b[1;32m~\\anaconda3\\envs\\gpu_compute_env\\Lib\\site-packages\\geomstats\\_backend\\_dtype_utils.py:280\u001b[0m, in \u001b[0;36m_pre_cast_fout_to_input_dtype.<locals>._cast_fout_to_input_dtype.<locals>._decorator.<locals>._wrapped\u001b[1;34m(x, *args, **kwargs)\u001b[0m\n\u001b[0;32m    278\u001b[0m \u001b[38;5;129m@functools\u001b[39m\u001b[38;5;241m.\u001b[39mwraps(func)\n\u001b[0;32m    279\u001b[0m \u001b[38;5;28;01mdef\u001b[39;00m \u001b[38;5;21m_wrapped\u001b[39m(x, \u001b[38;5;241m*\u001b[39margs, \u001b[38;5;241m*\u001b[39m\u001b[38;5;241m*\u001b[39mkwargs):\n\u001b[1;32m--> 280\u001b[0m     out \u001b[38;5;241m=\u001b[39m \u001b[43mfunc\u001b[49m\u001b[43m(\u001b[49m\u001b[43mx\u001b[49m\u001b[43m,\u001b[49m\u001b[43m \u001b[49m\u001b[38;5;241;43m*\u001b[39;49m\u001b[43margs\u001b[49m\u001b[43m,\u001b[49m\u001b[43m \u001b[49m\u001b[38;5;241;43m*\u001b[39;49m\u001b[38;5;241;43m*\u001b[39;49m\u001b[43mkwargs\u001b[49m\u001b[43m)\u001b[49m\n\u001b[0;32m    281\u001b[0m     \u001b[38;5;28;01mif\u001b[39;00m is_floating(out) \u001b[38;5;129;01mand\u001b[39;00m out\u001b[38;5;241m.\u001b[39mdtype \u001b[38;5;241m!=\u001b[39m x\u001b[38;5;241m.\u001b[39mdtype:\n\u001b[0;32m    282\u001b[0m         \u001b[38;5;28;01mreturn\u001b[39;00m cast(out, x\u001b[38;5;241m.\u001b[39mdtype)\n",
      "File \u001b[1;32m~\\anaconda3\\envs\\gpu_compute_env\\Lib\\site-packages\\geomstats\\_backend\\_shared_numpy\\linalg.py:69\u001b[0m, in \u001b[0;36msqrtm\u001b[1;34m(x)\u001b[0m\n\u001b[0;32m     67\u001b[0m \u001b[38;5;129m@_cast_fout_to_input_dtype\u001b[39m\n\u001b[0;32m     68\u001b[0m \u001b[38;5;28;01mdef\u001b[39;00m \u001b[38;5;21msqrtm\u001b[39m(x):\n\u001b[1;32m---> 69\u001b[0m     \u001b[38;5;28;01mreturn\u001b[39;00m \u001b[43m_np\u001b[49m\u001b[38;5;241;43m.\u001b[39;49m\u001b[43mvectorize\u001b[49m\u001b[43m(\u001b[49m\u001b[43m_scipy\u001b[49m\u001b[38;5;241;43m.\u001b[39;49m\u001b[43mlinalg\u001b[49m\u001b[38;5;241;43m.\u001b[39;49m\u001b[43msqrtm\u001b[49m\u001b[43m,\u001b[49m\u001b[43m \u001b[49m\u001b[43msignature\u001b[49m\u001b[38;5;241;43m=\u001b[39;49m\u001b[38;5;124;43m\"\u001b[39;49m\u001b[38;5;124;43m(n,m)->(n,m)\u001b[39;49m\u001b[38;5;124;43m\"\u001b[39;49m\u001b[43m)\u001b[49m\u001b[43m(\u001b[49m\u001b[43mx\u001b[49m\u001b[43m)\u001b[49m\n",
      "File \u001b[1;32m~\\anaconda3\\envs\\gpu_compute_env\\Lib\\site-packages\\numpy\\lib\\function_base.py:2372\u001b[0m, in \u001b[0;36mvectorize.__call__\u001b[1;34m(self, *args, **kwargs)\u001b[0m\n\u001b[0;32m   2369\u001b[0m     \u001b[38;5;28mself\u001b[39m\u001b[38;5;241m.\u001b[39m_init_stage_2(\u001b[38;5;241m*\u001b[39margs, \u001b[38;5;241m*\u001b[39m\u001b[38;5;241m*\u001b[39mkwargs)\n\u001b[0;32m   2370\u001b[0m     \u001b[38;5;28;01mreturn\u001b[39;00m \u001b[38;5;28mself\u001b[39m\n\u001b[1;32m-> 2372\u001b[0m \u001b[38;5;28;01mreturn\u001b[39;00m \u001b[38;5;28;43mself\u001b[39;49m\u001b[38;5;241;43m.\u001b[39;49m\u001b[43m_call_as_normal\u001b[49m\u001b[43m(\u001b[49m\u001b[38;5;241;43m*\u001b[39;49m\u001b[43margs\u001b[49m\u001b[43m,\u001b[49m\u001b[43m \u001b[49m\u001b[38;5;241;43m*\u001b[39;49m\u001b[38;5;241;43m*\u001b[39;49m\u001b[43mkwargs\u001b[49m\u001b[43m)\u001b[49m\n",
      "File \u001b[1;32m~\\anaconda3\\envs\\gpu_compute_env\\Lib\\site-packages\\numpy\\lib\\function_base.py:2365\u001b[0m, in \u001b[0;36mvectorize._call_as_normal\u001b[1;34m(self, *args, **kwargs)\u001b[0m\n\u001b[0;32m   2362\u001b[0m     vargs \u001b[38;5;241m=\u001b[39m [args[_i] \u001b[38;5;28;01mfor\u001b[39;00m _i \u001b[38;5;129;01min\u001b[39;00m inds]\n\u001b[0;32m   2363\u001b[0m     vargs\u001b[38;5;241m.\u001b[39mextend([kwargs[_n] \u001b[38;5;28;01mfor\u001b[39;00m _n \u001b[38;5;129;01min\u001b[39;00m names])\n\u001b[1;32m-> 2365\u001b[0m \u001b[38;5;28;01mreturn\u001b[39;00m \u001b[38;5;28;43mself\u001b[39;49m\u001b[38;5;241;43m.\u001b[39;49m\u001b[43m_vectorize_call\u001b[49m\u001b[43m(\u001b[49m\u001b[43mfunc\u001b[49m\u001b[38;5;241;43m=\u001b[39;49m\u001b[43mfunc\u001b[49m\u001b[43m,\u001b[49m\u001b[43m \u001b[49m\u001b[43margs\u001b[49m\u001b[38;5;241;43m=\u001b[39;49m\u001b[43mvargs\u001b[49m\u001b[43m)\u001b[49m\n",
      "File \u001b[1;32m~\\anaconda3\\envs\\gpu_compute_env\\Lib\\site-packages\\numpy\\lib\\function_base.py:2446\u001b[0m, in \u001b[0;36mvectorize._vectorize_call\u001b[1;34m(self, func, args)\u001b[0m\n\u001b[0;32m   2444\u001b[0m \u001b[38;5;250m\u001b[39m\u001b[38;5;124;03m\"\"\"Vectorized call to `func` over positional `args`.\"\"\"\u001b[39;00m\n\u001b[0;32m   2445\u001b[0m \u001b[38;5;28;01mif\u001b[39;00m \u001b[38;5;28mself\u001b[39m\u001b[38;5;241m.\u001b[39msignature \u001b[38;5;129;01mis\u001b[39;00m \u001b[38;5;129;01mnot\u001b[39;00m \u001b[38;5;28;01mNone\u001b[39;00m:\n\u001b[1;32m-> 2446\u001b[0m     res \u001b[38;5;241m=\u001b[39m \u001b[38;5;28;43mself\u001b[39;49m\u001b[38;5;241;43m.\u001b[39;49m\u001b[43m_vectorize_call_with_signature\u001b[49m\u001b[43m(\u001b[49m\u001b[43mfunc\u001b[49m\u001b[43m,\u001b[49m\u001b[43m \u001b[49m\u001b[43margs\u001b[49m\u001b[43m)\u001b[49m\n\u001b[0;32m   2447\u001b[0m \u001b[38;5;28;01melif\u001b[39;00m \u001b[38;5;129;01mnot\u001b[39;00m args:\n\u001b[0;32m   2448\u001b[0m     res \u001b[38;5;241m=\u001b[39m func()\n",
      "File \u001b[1;32m~\\anaconda3\\envs\\gpu_compute_env\\Lib\\site-packages\\numpy\\lib\\function_base.py:2486\u001b[0m, in \u001b[0;36mvectorize._vectorize_call_with_signature\u001b[1;34m(self, func, args)\u001b[0m\n\u001b[0;32m   2483\u001b[0m nout \u001b[38;5;241m=\u001b[39m \u001b[38;5;28mlen\u001b[39m(output_core_dims)\n\u001b[0;32m   2485\u001b[0m \u001b[38;5;28;01mfor\u001b[39;00m index \u001b[38;5;129;01min\u001b[39;00m np\u001b[38;5;241m.\u001b[39mndindex(\u001b[38;5;241m*\u001b[39mbroadcast_shape):\n\u001b[1;32m-> 2486\u001b[0m     results \u001b[38;5;241m=\u001b[39m \u001b[43mfunc\u001b[49m\u001b[43m(\u001b[49m\u001b[38;5;241;43m*\u001b[39;49m\u001b[43m(\u001b[49m\u001b[43marg\u001b[49m\u001b[43m[\u001b[49m\u001b[43mindex\u001b[49m\u001b[43m]\u001b[49m\u001b[43m \u001b[49m\u001b[38;5;28;43;01mfor\u001b[39;49;00m\u001b[43m \u001b[49m\u001b[43marg\u001b[49m\u001b[43m \u001b[49m\u001b[38;5;129;43;01min\u001b[39;49;00m\u001b[43m \u001b[49m\u001b[43margs\u001b[49m\u001b[43m)\u001b[49m\u001b[43m)\u001b[49m\n\u001b[0;32m   2488\u001b[0m     n_results \u001b[38;5;241m=\u001b[39m \u001b[38;5;28mlen\u001b[39m(results) \u001b[38;5;28;01mif\u001b[39;00m \u001b[38;5;28misinstance\u001b[39m(results, \u001b[38;5;28mtuple\u001b[39m) \u001b[38;5;28;01melse\u001b[39;00m \u001b[38;5;241m1\u001b[39m\n\u001b[0;32m   2490\u001b[0m     \u001b[38;5;28;01mif\u001b[39;00m nout \u001b[38;5;241m!=\u001b[39m n_results:\n",
      "File \u001b[1;32m~\\anaconda3\\envs\\gpu_compute_env\\Lib\\site-packages\\scipy\\linalg\\_matfuncs_sqrtm.py:183\u001b[0m, in \u001b[0;36msqrtm\u001b[1;34m(A, disp, blocksize)\u001b[0m\n\u001b[0;32m    181\u001b[0m R \u001b[38;5;241m=\u001b[39m _sqrtm_triu(T, blocksize\u001b[38;5;241m=\u001b[39mblocksize)\n\u001b[0;32m    182\u001b[0m ZH \u001b[38;5;241m=\u001b[39m np\u001b[38;5;241m.\u001b[39mconjugate(Z)\u001b[38;5;241m.\u001b[39mT\n\u001b[1;32m--> 183\u001b[0m X \u001b[38;5;241m=\u001b[39m Z\u001b[38;5;241m.\u001b[39mdot(R)\u001b[38;5;241m.\u001b[39mdot(ZH)\n\u001b[0;32m    184\u001b[0m \u001b[38;5;28;01mif\u001b[39;00m \u001b[38;5;129;01mnot\u001b[39;00m np\u001b[38;5;241m.\u001b[39miscomplexobj(X):\n\u001b[0;32m    185\u001b[0m     \u001b[38;5;66;03m# float byte size range: f2 ~ f16\u001b[39;00m\n\u001b[0;32m    186\u001b[0m     X \u001b[38;5;241m=\u001b[39m X\u001b[38;5;241m.\u001b[39mastype(\u001b[38;5;124mf\u001b[39m\u001b[38;5;124m\"\u001b[39m\u001b[38;5;124mf\u001b[39m\u001b[38;5;132;01m{\u001b[39;00mnp\u001b[38;5;241m.\u001b[39mclip(byte_size,\u001b[38;5;250m \u001b[39m\u001b[38;5;241m2\u001b[39m,\u001b[38;5;250m \u001b[39m\u001b[38;5;241m16\u001b[39m)\u001b[38;5;132;01m}\u001b[39;00m\u001b[38;5;124m\"\u001b[39m, copy\u001b[38;5;241m=\u001b[39m\u001b[38;5;28;01mFalse\u001b[39;00m)\n",
      "\u001b[1;31mKeyboardInterrupt\u001b[0m: "
     ]
    }
   ],
   "source": [
    "D0 = np.array([[np.real(spd.metric.squared_dist(sigma0,sigma1)) for sigma0 in Sigma_y] for sigma1 in Sigma_x])\n",
    "\n"
   ]
  }
 ],
 "metadata": {
  "kernelspec": {
   "display_name": "gpu_compute_env",
   "language": "python",
   "name": "gpu_compute_env"
  },
  "language_info": {
   "codemirror_mode": {
    "name": "ipython",
    "version": 3
   },
   "file_extension": ".py",
   "mimetype": "text/x-python",
   "name": "python",
   "nbconvert_exporter": "python",
   "pygments_lexer": "ipython3",
   "version": "3.11.4"
  }
 },
 "nbformat": 4,
 "nbformat_minor": 5
}
