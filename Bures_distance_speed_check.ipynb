{
 "cells": [
  {
   "cell_type": "code",
   "execution_count": 1,
   "id": "78bcb52c-b95c-44ba-9646-41ab546a2b62",
   "metadata": {},
   "outputs": [
    {
     "name": "stderr",
     "output_type": "stream",
     "text": [
      "INFO: Using numpy backend\n"
     ]
    }
   ],
   "source": [
    "import numpy as np\n",
    "import pandas as pd\n",
    "\n",
    "import torch\n",
    "\n",
    "from geomstats.geometry.spd_matrices import SPDMatrices, SPDBuresWassersteinMetric\n",
    "\n",
    "spd = SPDMatrices(3)\n",
    "spd.equip_with_metric(SPDBuresWassersteinMetric)\n"
   ]
  },
  {
   "cell_type": "markdown",
   "id": "a7840227-87a6-4454-99bf-89641525a71a",
   "metadata": {},
   "source": [
    "<font size=5> Bures Metric\n",
    "    \n",
    "<font size=5> $\\mathcal{B}(\\Sigma_x, \\Sigma_y) = tr\\bigg(\\Sigma_x + \\Sigma_y - 2\\big(\\Sigma_x^{\\frac{1}{2}} \\Sigma_y \\Sigma_x^{\\frac{1}{2}}\\big)^{\\frac{1}{2}}\\bigg)$\n",
    "    \n",
    "Most other methods use $sqrtm$ function to calculate the matrix square roots. This is slow, and produces imaginary numbers if the covariance matrix is not full rank. Instead, we use the fact that the symmetric matrices are orthogonally parallelizable to calculate faster matrix square roots that are always real. "
   ]
  },
  {
   "cell_type": "code",
   "execution_count": 2,
   "id": "12f2e4b4-a6f9-4a4b-9d99-0b64ec2c1752",
   "metadata": {},
   "outputs": [],
   "source": [
    "def my_squared_bures(sigma_x,sigma_y):\n",
    "    \n",
    "    Lx, Qx = np.linalg.eigh(sigma_x)\n",
    "    sigma_x_sqrt = Qx @ np.diag(np.sqrt(Lx*(Lx>0))) @ Qx.T\n",
    "\n",
    "    Lc,Qc = np.linalg.eigh(sigma_x_sqrt@sigma_y@sigma_x_sqrt)\n",
    "    cross_term = Qc @ np.diag(np.sqrt((Lc*(Lc>0)))) @ Qc.T\n",
    "\n",
    "    return np.trace(sigma_x + sigma_y - 2*cross_term)\n"
   ]
  },
  {
   "cell_type": "code",
   "execution_count": 3,
   "id": "d468180d-9396-4dab-a0db-5a9e3a31ff91",
   "metadata": {},
   "outputs": [
    {
     "data": {
      "text/plain": [
       "3.419486915845482e-14"
      ]
     },
     "execution_count": 3,
     "metadata": {},
     "output_type": "execute_result"
    }
   ],
   "source": [
    "errors=[]\n",
    "\n",
    "for i in range(1000):\n",
    "    sigma_x = spd.random_point()\n",
    "    sigma_y = spd.random_point()\n",
    "    \n",
    "    errors.append(my_squared_bures(sigma_x,sigma_y)-spd.metric.squared_dist(sigma_x,sigma_y))\n",
    "    \n",
    "max(errors)"
   ]
  },
  {
   "cell_type": "code",
   "execution_count": 4,
   "id": "b9d97061-54c3-4541-aedf-141a2ba2aa14",
   "metadata": {},
   "outputs": [
    {
     "name": "stdout",
     "output_type": "stream",
     "text": [
      "80.7 µs ± 1.18 µs per loop (mean ± std. dev. of 7 runs, 10,000 loops each)\n"
     ]
    }
   ],
   "source": [
    "%%timeit\n",
    "my_squared_bures(sigma_x,sigma_y)"
   ]
  },
  {
   "cell_type": "code",
   "execution_count": 5,
   "id": "cdc14578-d542-483c-9211-fb128ca344e5",
   "metadata": {},
   "outputs": [
    {
     "name": "stdout",
     "output_type": "stream",
     "text": [
      "283 µs ± 433 ns per loop (mean ± std. dev. of 7 runs, 1,000 loops each)\n"
     ]
    }
   ],
   "source": [
    "%%timeit\n",
    "spd.metric.squared_dist(sigma_x,sigma_y)"
   ]
  },
  {
   "cell_type": "code",
   "execution_count": 6,
   "id": "b1ea3a3a-34de-4e59-8bdc-1f29bdf1db7a",
   "metadata": {},
   "outputs": [],
   "source": [
    "def my_squared_bures_torch(sigma_x,sigma_y):\n",
    "    \n",
    "    Lx, Qx = torch.linalg.eigh(sigma_x)\n",
    "    sigma_x_sqrt = Qx @ torch.diag_embed(torch.sqrt(Lx*(Lx>0))) @ Qx.mH\n",
    "\n",
    "    Lc,Qc = torch.linalg.eigh(sigma_x_sqrt@sigma_y.unsqueeze(1)@sigma_x_sqrt.unsqueeze(0))\n",
    "    cross_term = Qc @ torch.diag_embed(torch.sqrt((Lc*(Lc>0)))) @ Qc.mH\n",
    "\n",
    "    return torch.einsum('ijkk -> ij', sigma_x.unsqueeze(0) + sigma_y.unsqueeze(1) - 2*cross_term).T"
   ]
  },
  {
   "cell_type": "code",
   "execution_count": 7,
   "id": "2b4ef58e-ac7d-44f4-9892-f473ef1fd574",
   "metadata": {},
   "outputs": [],
   "source": [
    "N=2000\n",
    "\n",
    "sigma_x = torch.tensor(spd.random_point(N))\n",
    "sigma_y = torch.tensor(spd.random_point(N))\n",
    "\n",
    "sigma_x2 = sigma_x.to('cuda')\n",
    "sigma_y2 = sigma_y.to('cuda')"
   ]
  },
  {
   "cell_type": "code",
   "execution_count": 8,
   "id": "b974d403-5068-481d-912b-d52982c7b965",
   "metadata": {},
   "outputs": [
    {
     "name": "stdout",
     "output_type": "stream",
     "text": [
      "6.75 s ± 75.7 ms per loop (mean ± std. dev. of 7 runs, 1 loop each)\n"
     ]
    }
   ],
   "source": [
    "%%timeit\n",
    "my_squared_bures_torch(sigma_x,sigma_y)"
   ]
  },
  {
   "cell_type": "code",
   "execution_count": 9,
   "id": "50ef95cf-7196-43ef-8c3e-85ef8b9afbfb",
   "metadata": {},
   "outputs": [],
   "source": [
    "def bures_distance_matrix2(Sigma_x,Sigma_y):\n",
    "    Lx, Qx = torch.linalg.eigh(Sigma_x)\n",
    "    Sigma_x_sqrt = Qx @ torch.diag_embed(torch.sqrt(Lx*(Lx>0))) @ Qx.mH\n",
    "    \n",
    "    cross_term = Sigma_x_sqrt @ Sigma_y.unsqueeze(1) @ Sigma_x_sqrt.unsqueeze(0)\n",
    "    \n",
    "    #Split data up for gpu memory\n",
    "    N=cross_term.shape[0]\n",
    "    M=int(1000000/cross_term.shape[1])\n",
    "    \n",
    "    for i in np.arange(0,N,M):\n",
    "        Lc,Qc = torch.linalg.eigh(cross_term[i:(i+M)])\n",
    "        cross_term[i:i+M] = Qc @ torch.diag_embed(torch.sqrt((Lc*(Lc>0)))) @ Qc.mH #This is actually the square root of the cross term - but because it is such a large array, we just write over the original variable to save space\n",
    "        \n",
    "    return torch.einsum('ijkk -> ij', Sigma_x.unsqueeze(0) + Sigma_y.unsqueeze(1) - 2*cross_term).T #the transpose here should be fixed"
   ]
  },
  {
   "cell_type": "code",
   "execution_count": 10,
   "id": "658dc1aa-a64d-418e-8bc8-85185592b9cc",
   "metadata": {},
   "outputs": [
    {
     "name": "stdout",
     "output_type": "stream",
     "text": [
      "3.09 s ± 38.6 ms per loop (mean ± std. dev. of 7 runs, 1 loop each)\n"
     ]
    }
   ],
   "source": [
    "%%timeit\n",
    "bures_distance_matrix2(sigma_x2,sigma_y2)"
   ]
  }
 ],
 "metadata": {
  "kernelspec": {
   "display_name": "gpu_compute_env",
   "language": "python",
   "name": "gpu_compute_env"
  },
  "language_info": {
   "codemirror_mode": {
    "name": "ipython",
    "version": 3
   },
   "file_extension": ".py",
   "mimetype": "text/x-python",
   "name": "python",
   "nbconvert_exporter": "python",
   "pygments_lexer": "ipython3",
   "version": "3.11.4"
  }
 },
 "nbformat": 4,
 "nbformat_minor": 5
}
